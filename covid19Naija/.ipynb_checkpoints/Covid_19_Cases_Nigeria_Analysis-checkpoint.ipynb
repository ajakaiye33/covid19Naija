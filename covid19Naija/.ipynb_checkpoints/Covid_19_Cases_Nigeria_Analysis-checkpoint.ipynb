{
  "cells": [
    {
      "metadata": {
        "trusted": true
      },
      "cell_type": "code",
      "source": "import pandas as pd\nimport matplotlib.pyplot as plt\nimport seaborn as sns\n\n",
      "execution_count": 1,
      "outputs": []
    },
    {
      "metadata": {
        "trusted": true
      },
      "cell_type": "code",
      "source": "covid_ng = pd.read_excel('data/records_covid19.xlsx', parse_dates=['Dates'],sheet_name='experimentation')",
      "execution_count": 2,
      "outputs": []
    },
    {
      "metadata": {
        "trusted": true
      },
      "cell_type": "code",
      "source": "plt.rcParams['figure.figsize'] = (20.0, 10.0)",
      "execution_count": 43,
      "outputs": []
    },
    {
      "metadata": {
        "trusted": true
      },
      "cell_type": "code",
      "source": "pd.set_option('display.max_columns', 60)",
      "execution_count": 4,
      "outputs": []
    },
    {
      "metadata": {
        "trusted": true
      },
      "cell_type": "code",
      "source": "%matplotlib inline",
      "execution_count": 5,
      "outputs": []
    },
    {
      "metadata": {
        "trusted": true
      },
      "cell_type": "code",
      "source": "covid_ng.head()",
      "execution_count": 6,
      "outputs": [
        {
          "output_type": "execute_result",
          "execution_count": 6,
          "data": {
            "text/html": "<div>\n<style scoped>\n    .dataframe tbody tr th:only-of-type {\n        vertical-align: middle;\n    }\n\n    .dataframe tbody tr th {\n        vertical-align: top;\n    }\n\n    .dataframe thead th {\n        text-align: right;\n    }\n</style>\n<table border=\"1\" class=\"dataframe\">\n  <thead>\n    <tr style=\"text-align: right;\">\n      <th></th>\n      <th>Dates</th>\n      <th>Lagos</th>\n      <th>Abuja(FCT)</th>\n      <th>Kano</th>\n      <th>Ogun</th>\n      <th>Osun</th>\n      <th>Gombe</th>\n      <th>Katsina</th>\n      <th>Borno</th>\n      <th>Edo</th>\n      <th>Oyo</th>\n      <th>Kwara</th>\n      <th>Akwa Ibom</th>\n      <th>Bauchi</th>\n      <th>Kaduna</th>\n      <th>Ekiti</th>\n      <th>Ondo</th>\n      <th>Delta</th>\n      <th>Rivers</th>\n      <th>Jigawa</th>\n      <th>Enugu</th>\n      <th>Niger</th>\n      <th>Abia</th>\n      <th>Zamfara</th>\n      <th>Sokoto</th>\n      <th>Benue</th>\n      <th>Anambra</th>\n      <th>Adamawa</th>\n      <th>Plateau</th>\n      <th>Imo</th>\n      <th>Kebbi</th>\n      <th>Kogi</th>\n      <th>Nasarawa</th>\n      <th>Taraba</th>\n      <th>Yobe</th>\n      <th>Bayelsa</th>\n      <th>Ebonyi</th>\n      <th>Cross River</th>\n      <th>Dischared/Revovered</th>\n      <th>Dealth</th>\n    </tr>\n  </thead>\n  <tbody>\n    <tr>\n      <th>0</th>\n      <td>2020-02-27 15:40:38</td>\n      <td>1</td>\n      <td>0</td>\n      <td>0</td>\n      <td>0</td>\n      <td>0</td>\n      <td>0</td>\n      <td>0</td>\n      <td>0</td>\n      <td>0</td>\n      <td>0</td>\n      <td>0</td>\n      <td>0</td>\n      <td>0</td>\n      <td>0</td>\n      <td>0</td>\n      <td>0</td>\n      <td>0</td>\n      <td>0</td>\n      <td>0</td>\n      <td>0</td>\n      <td>0</td>\n      <td>0</td>\n      <td>0</td>\n      <td>0</td>\n      <td>0</td>\n      <td>0</td>\n      <td>0</td>\n      <td>0</td>\n      <td>0</td>\n      <td>0</td>\n      <td>0</td>\n      <td>0</td>\n      <td>0</td>\n      <td>0</td>\n      <td>0</td>\n      <td>0</td>\n      <td>0</td>\n      <td>0</td>\n      <td>0</td>\n    </tr>\n    <tr>\n      <th>1</th>\n      <td>2020-02-28 01:00:36</td>\n      <td>0</td>\n      <td>0</td>\n      <td>0</td>\n      <td>0</td>\n      <td>0</td>\n      <td>0</td>\n      <td>0</td>\n      <td>0</td>\n      <td>0</td>\n      <td>0</td>\n      <td>0</td>\n      <td>0</td>\n      <td>0</td>\n      <td>0</td>\n      <td>0</td>\n      <td>0</td>\n      <td>0</td>\n      <td>0</td>\n      <td>0</td>\n      <td>0</td>\n      <td>0</td>\n      <td>0</td>\n      <td>0</td>\n      <td>0</td>\n      <td>0</td>\n      <td>0</td>\n      <td>0</td>\n      <td>0</td>\n      <td>0</td>\n      <td>0</td>\n      <td>0</td>\n      <td>0</td>\n      <td>0</td>\n      <td>0</td>\n      <td>0</td>\n      <td>0</td>\n      <td>0</td>\n      <td>0</td>\n      <td>0</td>\n    </tr>\n    <tr>\n      <th>2</th>\n      <td>2020-02-29 02:26:52</td>\n      <td>0</td>\n      <td>0</td>\n      <td>0</td>\n      <td>0</td>\n      <td>0</td>\n      <td>0</td>\n      <td>0</td>\n      <td>0</td>\n      <td>0</td>\n      <td>0</td>\n      <td>0</td>\n      <td>0</td>\n      <td>0</td>\n      <td>0</td>\n      <td>0</td>\n      <td>0</td>\n      <td>0</td>\n      <td>0</td>\n      <td>0</td>\n      <td>0</td>\n      <td>0</td>\n      <td>0</td>\n      <td>0</td>\n      <td>0</td>\n      <td>0</td>\n      <td>0</td>\n      <td>0</td>\n      <td>0</td>\n      <td>0</td>\n      <td>0</td>\n      <td>0</td>\n      <td>0</td>\n      <td>0</td>\n      <td>0</td>\n      <td>0</td>\n      <td>0</td>\n      <td>0</td>\n      <td>0</td>\n      <td>0</td>\n    </tr>\n    <tr>\n      <th>3</th>\n      <td>2020-03-01 22:44:08</td>\n      <td>0</td>\n      <td>0</td>\n      <td>0</td>\n      <td>0</td>\n      <td>0</td>\n      <td>0</td>\n      <td>0</td>\n      <td>0</td>\n      <td>0</td>\n      <td>0</td>\n      <td>0</td>\n      <td>0</td>\n      <td>0</td>\n      <td>0</td>\n      <td>0</td>\n      <td>0</td>\n      <td>0</td>\n      <td>0</td>\n      <td>0</td>\n      <td>0</td>\n      <td>0</td>\n      <td>0</td>\n      <td>0</td>\n      <td>0</td>\n      <td>0</td>\n      <td>0</td>\n      <td>0</td>\n      <td>0</td>\n      <td>0</td>\n      <td>0</td>\n      <td>0</td>\n      <td>0</td>\n      <td>0</td>\n      <td>0</td>\n      <td>0</td>\n      <td>0</td>\n      <td>0</td>\n      <td>0</td>\n      <td>0</td>\n    </tr>\n    <tr>\n      <th>4</th>\n      <td>2020-03-02 11:53:02</td>\n      <td>0</td>\n      <td>0</td>\n      <td>0</td>\n      <td>0</td>\n      <td>0</td>\n      <td>0</td>\n      <td>0</td>\n      <td>0</td>\n      <td>0</td>\n      <td>0</td>\n      <td>0</td>\n      <td>0</td>\n      <td>0</td>\n      <td>0</td>\n      <td>0</td>\n      <td>0</td>\n      <td>0</td>\n      <td>0</td>\n      <td>0</td>\n      <td>0</td>\n      <td>0</td>\n      <td>0</td>\n      <td>0</td>\n      <td>0</td>\n      <td>0</td>\n      <td>0</td>\n      <td>0</td>\n      <td>0</td>\n      <td>0</td>\n      <td>0</td>\n      <td>0</td>\n      <td>0</td>\n      <td>0</td>\n      <td>0</td>\n      <td>0</td>\n      <td>0</td>\n      <td>0</td>\n      <td>0</td>\n      <td>0</td>\n    </tr>\n  </tbody>\n</table>\n</div>",
            "text/plain": "                Dates  Lagos  Abuja(FCT)  Kano  Ogun  Osun  Gombe  Katsina  \\\n0 2020-02-27 15:40:38      1           0     0     0     0      0        0   \n1 2020-02-28 01:00:36      0           0     0     0     0      0        0   \n2 2020-02-29 02:26:52      0           0     0     0     0      0        0   \n3 2020-03-01 22:44:08      0           0     0     0     0      0        0   \n4 2020-03-02 11:53:02      0           0     0     0     0      0        0   \n\n   Borno  Edo  Oyo  Kwara  Akwa Ibom  Bauchi  Kaduna  Ekiti  Ondo  Delta  \\\n0      0    0    0      0          0       0       0      0     0      0   \n1      0    0    0      0          0       0       0      0     0      0   \n2      0    0    0      0          0       0       0      0     0      0   \n3      0    0    0      0          0       0       0      0     0      0   \n4      0    0    0      0          0       0       0      0     0      0   \n\n   Rivers  Jigawa  Enugu  Niger  Abia  Zamfara  Sokoto  Benue  Anambra  \\\n0       0       0      0      0     0        0       0      0        0   \n1       0       0      0      0     0        0       0      0        0   \n2       0       0      0      0     0        0       0      0        0   \n3       0       0      0      0     0        0       0      0        0   \n4       0       0      0      0     0        0       0      0        0   \n\n   Adamawa  Plateau  Imo  Kebbi  Kogi  Nasarawa  Taraba  Yobe  Bayelsa  \\\n0        0        0    0      0     0         0       0     0        0   \n1        0        0    0      0     0         0       0     0        0   \n2        0        0    0      0     0         0       0     0        0   \n3        0        0    0      0     0         0       0     0        0   \n4        0        0    0      0     0         0       0     0        0   \n\n   Ebonyi  Cross River  Dischared/Revovered  Dealth  \n0       0            0                    0       0  \n1       0            0                    0       0  \n2       0            0                    0       0  \n3       0            0                    0       0  \n4       0            0                    0       0  "
          },
          "metadata": {}
        }
      ]
    },
    {
      "metadata": {
        "trusted": true
      },
      "cell_type": "code",
      "source": "covid_ng.tail()",
      "execution_count": 7,
      "outputs": [
        {
          "output_type": "execute_result",
          "execution_count": 7,
          "data": {
            "text/html": "<div>\n<style scoped>\n    .dataframe tbody tr th:only-of-type {\n        vertical-align: middle;\n    }\n\n    .dataframe tbody tr th {\n        vertical-align: top;\n    }\n\n    .dataframe thead th {\n        text-align: right;\n    }\n</style>\n<table border=\"1\" class=\"dataframe\">\n  <thead>\n    <tr style=\"text-align: right;\">\n      <th></th>\n      <th>Dates</th>\n      <th>Lagos</th>\n      <th>Abuja(FCT)</th>\n      <th>Kano</th>\n      <th>Ogun</th>\n      <th>Osun</th>\n      <th>Gombe</th>\n      <th>Katsina</th>\n      <th>Borno</th>\n      <th>Edo</th>\n      <th>Oyo</th>\n      <th>Kwara</th>\n      <th>Akwa Ibom</th>\n      <th>Bauchi</th>\n      <th>Kaduna</th>\n      <th>Ekiti</th>\n      <th>Ondo</th>\n      <th>Delta</th>\n      <th>Rivers</th>\n      <th>Jigawa</th>\n      <th>Enugu</th>\n      <th>Niger</th>\n      <th>Abia</th>\n      <th>Zamfara</th>\n      <th>Sokoto</th>\n      <th>Benue</th>\n      <th>Anambra</th>\n      <th>Adamawa</th>\n      <th>Plateau</th>\n      <th>Imo</th>\n      <th>Kebbi</th>\n      <th>Kogi</th>\n      <th>Nasarawa</th>\n      <th>Taraba</th>\n      <th>Yobe</th>\n      <th>Bayelsa</th>\n      <th>Ebonyi</th>\n      <th>Cross River</th>\n      <th>Dischared/Revovered</th>\n      <th>Dealth</th>\n    </tr>\n  </thead>\n  <tbody>\n    <tr>\n      <th>68</th>\n      <td>2020-04-28 16:04:13</td>\n      <td>80</td>\n      <td>1</td>\n      <td>38</td>\n      <td>15</td>\n      <td>0</td>\n      <td>10</td>\n      <td>0</td>\n      <td>11</td>\n      <td>5</td>\n      <td>0</td>\n      <td>0</td>\n      <td>0</td>\n      <td>15</td>\n      <td>0</td>\n      <td>0</td>\n      <td>0</td>\n      <td>1</td>\n      <td>1</td>\n      <td>5</td>\n      <td>1</td>\n      <td>0</td>\n      <td>0</td>\n      <td>2</td>\n      <td>9</td>\n      <td>0</td>\n      <td>0</td>\n      <td>0</td>\n      <td>0</td>\n      <td>0</td>\n      <td>0</td>\n      <td>0</td>\n      <td>1</td>\n      <td>0</td>\n      <td>0</td>\n      <td>0</td>\n      <td>0</td>\n      <td>0</td>\n      <td>0</td>\n      <td>4</td>\n    </tr>\n    <tr>\n      <th>69</th>\n      <td>2020-04-29 15:58:43</td>\n      <td>87</td>\n      <td>16</td>\n      <td>24</td>\n      <td>0</td>\n      <td>0</td>\n      <td>18</td>\n      <td>10</td>\n      <td>6</td>\n      <td>7</td>\n      <td>0</td>\n      <td>0</td>\n      <td>0</td>\n      <td>0</td>\n      <td>17</td>\n      <td>0</td>\n      <td>0</td>\n      <td>0</td>\n      <td>0</td>\n      <td>0</td>\n      <td>0</td>\n      <td>0</td>\n      <td>0</td>\n      <td>0</td>\n      <td>8</td>\n      <td>0</td>\n      <td>0</td>\n      <td>1</td>\n      <td>0</td>\n      <td>0</td>\n      <td>0</td>\n      <td>0</td>\n      <td>0</td>\n      <td>0</td>\n      <td>1</td>\n      <td>0</td>\n      <td>1</td>\n      <td>0</td>\n      <td>52</td>\n      <td>7</td>\n    </tr>\n    <tr>\n      <th>70</th>\n      <td>2020-04-30 15:52:13</td>\n      <td>45</td>\n      <td>4</td>\n      <td>80</td>\n      <td>6</td>\n      <td>0</td>\n      <td>12</td>\n      <td>0</td>\n      <td>7</td>\n      <td>7</td>\n      <td>2</td>\n      <td>0</td>\n      <td>4</td>\n      <td>9</td>\n      <td>3</td>\n      <td>0</td>\n      <td>1</td>\n      <td>2</td>\n      <td>6</td>\n      <td>0</td>\n      <td>0</td>\n      <td>0</td>\n      <td>0</td>\n      <td>0</td>\n      <td>9</td>\n      <td>0</td>\n      <td>0</td>\n      <td>0</td>\n      <td>0</td>\n      <td>0</td>\n      <td>1</td>\n      <td>0</td>\n      <td>2</td>\n      <td>0</td>\n      <td>0</td>\n      <td>4</td>\n      <td>0</td>\n      <td>0</td>\n      <td>12</td>\n      <td>7</td>\n    </tr>\n    <tr>\n      <th>71</th>\n      <td>2020-05-01 15:06:09</td>\n      <td>30</td>\n      <td>36</td>\n      <td>92</td>\n      <td>0</td>\n      <td>0</td>\n      <td>16</td>\n      <td>0</td>\n      <td>3</td>\n      <td>3</td>\n      <td>6</td>\n      <td>3</td>\n      <td>0</td>\n      <td>10</td>\n      <td>0</td>\n      <td>3</td>\n      <td>4</td>\n      <td>8</td>\n      <td>1</td>\n      <td>0</td>\n      <td>1</td>\n      <td>1</td>\n      <td>0</td>\n      <td>5</td>\n      <td>5</td>\n      <td>0</td>\n      <td>0</td>\n      <td>2</td>\n      <td>0</td>\n      <td>1</td>\n      <td>0</td>\n      <td>0</td>\n      <td>4</td>\n      <td>0</td>\n      <td>3</td>\n      <td>0</td>\n      <td>1</td>\n      <td>0</td>\n      <td>32</td>\n      <td>10</td>\n    </tr>\n    <tr>\n      <th>72</th>\n      <td>2020-05-02 15:56:07</td>\n      <td>62</td>\n      <td>52</td>\n      <td>2</td>\n      <td>0</td>\n      <td>2</td>\n      <td>4</td>\n      <td>0</td>\n      <td>6</td>\n      <td>5</td>\n      <td>4</td>\n      <td>2</td>\n      <td>0</td>\n      <td>5</td>\n      <td>31</td>\n      <td>0</td>\n      <td>0</td>\n      <td>0</td>\n      <td>0</td>\n      <td>0</td>\n      <td>4</td>\n      <td>0</td>\n      <td>0</td>\n      <td>3</td>\n      <td>13</td>\n      <td>0</td>\n      <td>0</td>\n      <td>0</td>\n      <td>2</td>\n      <td>0</td>\n      <td>10</td>\n      <td>0</td>\n      <td>2</td>\n      <td>0</td>\n      <td>9</td>\n      <td>0</td>\n      <td>2</td>\n      <td>0</td>\n      <td>34</td>\n      <td>17</td>\n    </tr>\n  </tbody>\n</table>\n</div>",
            "text/plain": "                 Dates  Lagos  Abuja(FCT)  Kano  Ogun  Osun  Gombe  Katsina  \\\n68 2020-04-28 16:04:13     80           1    38    15     0     10        0   \n69 2020-04-29 15:58:43     87          16    24     0     0     18       10   \n70 2020-04-30 15:52:13     45           4    80     6     0     12        0   \n71 2020-05-01 15:06:09     30          36    92     0     0     16        0   \n72 2020-05-02 15:56:07     62          52     2     0     2      4        0   \n\n    Borno  Edo  Oyo  Kwara  Akwa Ibom  Bauchi  Kaduna  Ekiti  Ondo  Delta  \\\n68     11    5    0      0          0      15       0      0     0      1   \n69      6    7    0      0          0       0      17      0     0      0   \n70      7    7    2      0          4       9       3      0     1      2   \n71      3    3    6      3          0      10       0      3     4      8   \n72      6    5    4      2          0       5      31      0     0      0   \n\n    Rivers  Jigawa  Enugu  Niger  Abia  Zamfara  Sokoto  Benue  Anambra  \\\n68       1       5      1      0     0        2       9      0        0   \n69       0       0      0      0     0        0       8      0        0   \n70       6       0      0      0     0        0       9      0        0   \n71       1       0      1      1     0        5       5      0        0   \n72       0       0      4      0     0        3      13      0        0   \n\n    Adamawa  Plateau  Imo  Kebbi  Kogi  Nasarawa  Taraba  Yobe  Bayelsa  \\\n68        0        0    0      0     0         1       0     0        0   \n69        1        0    0      0     0         0       0     1        0   \n70        0        0    0      1     0         2       0     0        4   \n71        2        0    1      0     0         4       0     3        0   \n72        0        2    0     10     0         2       0     9        0   \n\n    Ebonyi  Cross River  Dischared/Revovered  Dealth  \n68       0            0                    0       4  \n69       1            0                   52       7  \n70       0            0                   12       7  \n71       1            0                   32      10  \n72       2            0                   34      17  "
          },
          "metadata": {}
        }
      ]
    },
    {
      "metadata": {
        "trusted": true
      },
      "cell_type": "code",
      "source": "covid_ng.shape",
      "execution_count": 8,
      "outputs": [
        {
          "output_type": "execute_result",
          "execution_count": 8,
          "data": {
            "text/plain": "(73, 40)"
          },
          "metadata": {}
        }
      ]
    },
    {
      "metadata": {
        "trusted": true
      },
      "cell_type": "code",
      "source": "covid_ng.columns",
      "execution_count": 9,
      "outputs": [
        {
          "output_type": "execute_result",
          "execution_count": 9,
          "data": {
            "text/plain": "Index(['Dates', 'Lagos', 'Abuja(FCT)', 'Kano', 'Ogun', 'Osun', 'Gombe',\n       'Katsina', 'Borno', 'Edo', 'Oyo', 'Kwara', 'Akwa Ibom', 'Bauchi',\n       'Kaduna', 'Ekiti', 'Ondo', 'Delta', 'Rivers', 'Jigawa', 'Enugu',\n       'Niger', 'Abia', 'Zamfara', 'Sokoto', 'Benue', 'Anambra', 'Adamawa',\n       'Plateau', 'Imo', 'Kebbi', 'Kogi', 'Nasarawa', 'Taraba', 'Yobe',\n       'Bayelsa', 'Ebonyi', 'Cross River', 'Dischared/Revovered', 'Dealth'],\n      dtype='object')"
          },
          "metadata": {}
        }
      ]
    },
    {
      "metadata": {
        "trusted": true
      },
      "cell_type": "code",
      "source": "exp_wip = covid_ng.copy()",
      "execution_count": 10,
      "outputs": []
    },
    {
      "metadata": {
        "trusted": true
      },
      "cell_type": "code",
      "source": "exp_wip.head()",
      "execution_count": 11,
      "outputs": [
        {
          "output_type": "execute_result",
          "execution_count": 11,
          "data": {
            "text/html": "<div>\n<style scoped>\n    .dataframe tbody tr th:only-of-type {\n        vertical-align: middle;\n    }\n\n    .dataframe tbody tr th {\n        vertical-align: top;\n    }\n\n    .dataframe thead th {\n        text-align: right;\n    }\n</style>\n<table border=\"1\" class=\"dataframe\">\n  <thead>\n    <tr style=\"text-align: right;\">\n      <th></th>\n      <th>Dates</th>\n      <th>Lagos</th>\n      <th>Abuja(FCT)</th>\n      <th>Kano</th>\n      <th>Ogun</th>\n      <th>Osun</th>\n      <th>Gombe</th>\n      <th>Katsina</th>\n      <th>Borno</th>\n      <th>Edo</th>\n      <th>Oyo</th>\n      <th>Kwara</th>\n      <th>Akwa Ibom</th>\n      <th>Bauchi</th>\n      <th>Kaduna</th>\n      <th>Ekiti</th>\n      <th>Ondo</th>\n      <th>Delta</th>\n      <th>Rivers</th>\n      <th>Jigawa</th>\n      <th>Enugu</th>\n      <th>Niger</th>\n      <th>Abia</th>\n      <th>Zamfara</th>\n      <th>Sokoto</th>\n      <th>Benue</th>\n      <th>Anambra</th>\n      <th>Adamawa</th>\n      <th>Plateau</th>\n      <th>Imo</th>\n      <th>Kebbi</th>\n      <th>Kogi</th>\n      <th>Nasarawa</th>\n      <th>Taraba</th>\n      <th>Yobe</th>\n      <th>Bayelsa</th>\n      <th>Ebonyi</th>\n      <th>Cross River</th>\n      <th>Dischared/Revovered</th>\n      <th>Dealth</th>\n    </tr>\n  </thead>\n  <tbody>\n    <tr>\n      <th>0</th>\n      <td>2020-02-27 15:40:38</td>\n      <td>1</td>\n      <td>0</td>\n      <td>0</td>\n      <td>0</td>\n      <td>0</td>\n      <td>0</td>\n      <td>0</td>\n      <td>0</td>\n      <td>0</td>\n      <td>0</td>\n      <td>0</td>\n      <td>0</td>\n      <td>0</td>\n      <td>0</td>\n      <td>0</td>\n      <td>0</td>\n      <td>0</td>\n      <td>0</td>\n      <td>0</td>\n      <td>0</td>\n      <td>0</td>\n      <td>0</td>\n      <td>0</td>\n      <td>0</td>\n      <td>0</td>\n      <td>0</td>\n      <td>0</td>\n      <td>0</td>\n      <td>0</td>\n      <td>0</td>\n      <td>0</td>\n      <td>0</td>\n      <td>0</td>\n      <td>0</td>\n      <td>0</td>\n      <td>0</td>\n      <td>0</td>\n      <td>0</td>\n      <td>0</td>\n    </tr>\n    <tr>\n      <th>1</th>\n      <td>2020-02-28 01:00:36</td>\n      <td>0</td>\n      <td>0</td>\n      <td>0</td>\n      <td>0</td>\n      <td>0</td>\n      <td>0</td>\n      <td>0</td>\n      <td>0</td>\n      <td>0</td>\n      <td>0</td>\n      <td>0</td>\n      <td>0</td>\n      <td>0</td>\n      <td>0</td>\n      <td>0</td>\n      <td>0</td>\n      <td>0</td>\n      <td>0</td>\n      <td>0</td>\n      <td>0</td>\n      <td>0</td>\n      <td>0</td>\n      <td>0</td>\n      <td>0</td>\n      <td>0</td>\n      <td>0</td>\n      <td>0</td>\n      <td>0</td>\n      <td>0</td>\n      <td>0</td>\n      <td>0</td>\n      <td>0</td>\n      <td>0</td>\n      <td>0</td>\n      <td>0</td>\n      <td>0</td>\n      <td>0</td>\n      <td>0</td>\n      <td>0</td>\n    </tr>\n    <tr>\n      <th>2</th>\n      <td>2020-02-29 02:26:52</td>\n      <td>0</td>\n      <td>0</td>\n      <td>0</td>\n      <td>0</td>\n      <td>0</td>\n      <td>0</td>\n      <td>0</td>\n      <td>0</td>\n      <td>0</td>\n      <td>0</td>\n      <td>0</td>\n      <td>0</td>\n      <td>0</td>\n      <td>0</td>\n      <td>0</td>\n      <td>0</td>\n      <td>0</td>\n      <td>0</td>\n      <td>0</td>\n      <td>0</td>\n      <td>0</td>\n      <td>0</td>\n      <td>0</td>\n      <td>0</td>\n      <td>0</td>\n      <td>0</td>\n      <td>0</td>\n      <td>0</td>\n      <td>0</td>\n      <td>0</td>\n      <td>0</td>\n      <td>0</td>\n      <td>0</td>\n      <td>0</td>\n      <td>0</td>\n      <td>0</td>\n      <td>0</td>\n      <td>0</td>\n      <td>0</td>\n    </tr>\n    <tr>\n      <th>3</th>\n      <td>2020-03-01 22:44:08</td>\n      <td>0</td>\n      <td>0</td>\n      <td>0</td>\n      <td>0</td>\n      <td>0</td>\n      <td>0</td>\n      <td>0</td>\n      <td>0</td>\n      <td>0</td>\n      <td>0</td>\n      <td>0</td>\n      <td>0</td>\n      <td>0</td>\n      <td>0</td>\n      <td>0</td>\n      <td>0</td>\n      <td>0</td>\n      <td>0</td>\n      <td>0</td>\n      <td>0</td>\n      <td>0</td>\n      <td>0</td>\n      <td>0</td>\n      <td>0</td>\n      <td>0</td>\n      <td>0</td>\n      <td>0</td>\n      <td>0</td>\n      <td>0</td>\n      <td>0</td>\n      <td>0</td>\n      <td>0</td>\n      <td>0</td>\n      <td>0</td>\n      <td>0</td>\n      <td>0</td>\n      <td>0</td>\n      <td>0</td>\n      <td>0</td>\n    </tr>\n    <tr>\n      <th>4</th>\n      <td>2020-03-02 11:53:02</td>\n      <td>0</td>\n      <td>0</td>\n      <td>0</td>\n      <td>0</td>\n      <td>0</td>\n      <td>0</td>\n      <td>0</td>\n      <td>0</td>\n      <td>0</td>\n      <td>0</td>\n      <td>0</td>\n      <td>0</td>\n      <td>0</td>\n      <td>0</td>\n      <td>0</td>\n      <td>0</td>\n      <td>0</td>\n      <td>0</td>\n      <td>0</td>\n      <td>0</td>\n      <td>0</td>\n      <td>0</td>\n      <td>0</td>\n      <td>0</td>\n      <td>0</td>\n      <td>0</td>\n      <td>0</td>\n      <td>0</td>\n      <td>0</td>\n      <td>0</td>\n      <td>0</td>\n      <td>0</td>\n      <td>0</td>\n      <td>0</td>\n      <td>0</td>\n      <td>0</td>\n      <td>0</td>\n      <td>0</td>\n      <td>0</td>\n    </tr>\n  </tbody>\n</table>\n</div>",
            "text/plain": "                Dates  Lagos  Abuja(FCT)  Kano  Ogun  Osun  Gombe  Katsina  \\\n0 2020-02-27 15:40:38      1           0     0     0     0      0        0   \n1 2020-02-28 01:00:36      0           0     0     0     0      0        0   \n2 2020-02-29 02:26:52      0           0     0     0     0      0        0   \n3 2020-03-01 22:44:08      0           0     0     0     0      0        0   \n4 2020-03-02 11:53:02      0           0     0     0     0      0        0   \n\n   Borno  Edo  Oyo  Kwara  Akwa Ibom  Bauchi  Kaduna  Ekiti  Ondo  Delta  \\\n0      0    0    0      0          0       0       0      0     0      0   \n1      0    0    0      0          0       0       0      0     0      0   \n2      0    0    0      0          0       0       0      0     0      0   \n3      0    0    0      0          0       0       0      0     0      0   \n4      0    0    0      0          0       0       0      0     0      0   \n\n   Rivers  Jigawa  Enugu  Niger  Abia  Zamfara  Sokoto  Benue  Anambra  \\\n0       0       0      0      0     0        0       0      0        0   \n1       0       0      0      0     0        0       0      0        0   \n2       0       0      0      0     0        0       0      0        0   \n3       0       0      0      0     0        0       0      0        0   \n4       0       0      0      0     0        0       0      0        0   \n\n   Adamawa  Plateau  Imo  Kebbi  Kogi  Nasarawa  Taraba  Yobe  Bayelsa  \\\n0        0        0    0      0     0         0       0     0        0   \n1        0        0    0      0     0         0       0     0        0   \n2        0        0    0      0     0         0       0     0        0   \n3        0        0    0      0     0         0       0     0        0   \n4        0        0    0      0     0         0       0     0        0   \n\n   Ebonyi  Cross River  Dischared/Revovered  Dealth  \n0       0            0                    0       0  \n1       0            0                    0       0  \n2       0            0                    0       0  \n3       0            0                    0       0  \n4       0            0                    0       0  "
          },
          "metadata": {}
        }
      ]
    },
    {
      "metadata": {
        "trusted": true
      },
      "cell_type": "code",
      "source": "#Extract geopolitical zone\nexp_wip['South_West'] = exp_wip['Lagos'] + exp_wip['Ondo'] + exp_wip['Osun'] + exp_wip['Oyo'] + \\\nexp_wip['Ekiti'] + exp_wip['Ogun']\n\nexp_wip['South_South'] = exp_wip['Edo'] + exp_wip['Rivers'] + exp_wip['Delta'] + exp_wip['Cross River'] + \\\nexp_wip['Bayelsa'] + exp_wip['Akwa Ibom']\n\nexp_wip['South_East'] = exp_wip['Anambra'] + exp_wip['Imo'] + exp_wip['Enugu'] + exp_wip['Abia'] + \\\nexp_wip['Ebonyi']\n\nexp_wip['North_Central'] = exp_wip['Benue'] + exp_wip['Kogi'] + exp_wip['Nasarawa'] + exp_wip['Niger'] + \\\nexp_wip['Plateau'] + exp_wip['Kwara']\n\nexp_wip['North_East'] = exp_wip['Adamawa'] + exp_wip['Bauchi'] + exp_wip['Borno'] + exp_wip['Gombe'] + \\\nexp_wip['Taraba'] + exp_wip['Yobe']\n\nexp_wip['North_West'] = exp_wip['Jigawa'] + exp_wip['Kaduna'] + exp_wip['Kano'] + exp_wip['Katsina'] + \\\nexp_wip['Kebbi'] + exp_wip['Sokoto'] + exp_wip['Zamfara']\n",
      "execution_count": 12,
      "outputs": []
    },
    {
      "metadata": {
        "trusted": true
      },
      "cell_type": "code",
      "source": "exp_wip.tail()",
      "execution_count": 13,
      "outputs": [
        {
          "output_type": "execute_result",
          "execution_count": 13,
          "data": {
            "text/html": "<div>\n<style scoped>\n    .dataframe tbody tr th:only-of-type {\n        vertical-align: middle;\n    }\n\n    .dataframe tbody tr th {\n        vertical-align: top;\n    }\n\n    .dataframe thead th {\n        text-align: right;\n    }\n</style>\n<table border=\"1\" class=\"dataframe\">\n  <thead>\n    <tr style=\"text-align: right;\">\n      <th></th>\n      <th>Dates</th>\n      <th>Lagos</th>\n      <th>Abuja(FCT)</th>\n      <th>Kano</th>\n      <th>Ogun</th>\n      <th>Osun</th>\n      <th>Gombe</th>\n      <th>Katsina</th>\n      <th>Borno</th>\n      <th>Edo</th>\n      <th>Oyo</th>\n      <th>Kwara</th>\n      <th>Akwa Ibom</th>\n      <th>Bauchi</th>\n      <th>Kaduna</th>\n      <th>Ekiti</th>\n      <th>Ondo</th>\n      <th>Delta</th>\n      <th>Rivers</th>\n      <th>Jigawa</th>\n      <th>Enugu</th>\n      <th>Niger</th>\n      <th>Abia</th>\n      <th>Zamfara</th>\n      <th>Sokoto</th>\n      <th>Benue</th>\n      <th>Anambra</th>\n      <th>Adamawa</th>\n      <th>Plateau</th>\n      <th>Imo</th>\n      <th>Kebbi</th>\n      <th>Kogi</th>\n      <th>Nasarawa</th>\n      <th>Taraba</th>\n      <th>Yobe</th>\n      <th>Bayelsa</th>\n      <th>Ebonyi</th>\n      <th>Cross River</th>\n      <th>Dischared/Revovered</th>\n      <th>Dealth</th>\n      <th>South_West</th>\n      <th>South_South</th>\n      <th>South_East</th>\n      <th>North_Central</th>\n      <th>North_East</th>\n      <th>North_West</th>\n    </tr>\n  </thead>\n  <tbody>\n    <tr>\n      <th>68</th>\n      <td>2020-04-28 16:04:13</td>\n      <td>80</td>\n      <td>1</td>\n      <td>38</td>\n      <td>15</td>\n      <td>0</td>\n      <td>10</td>\n      <td>0</td>\n      <td>11</td>\n      <td>5</td>\n      <td>0</td>\n      <td>0</td>\n      <td>0</td>\n      <td>15</td>\n      <td>0</td>\n      <td>0</td>\n      <td>0</td>\n      <td>1</td>\n      <td>1</td>\n      <td>5</td>\n      <td>1</td>\n      <td>0</td>\n      <td>0</td>\n      <td>2</td>\n      <td>9</td>\n      <td>0</td>\n      <td>0</td>\n      <td>0</td>\n      <td>0</td>\n      <td>0</td>\n      <td>0</td>\n      <td>0</td>\n      <td>1</td>\n      <td>0</td>\n      <td>0</td>\n      <td>0</td>\n      <td>0</td>\n      <td>0</td>\n      <td>0</td>\n      <td>4</td>\n      <td>95</td>\n      <td>7</td>\n      <td>1</td>\n      <td>1</td>\n      <td>36</td>\n      <td>54</td>\n    </tr>\n    <tr>\n      <th>69</th>\n      <td>2020-04-29 15:58:43</td>\n      <td>87</td>\n      <td>16</td>\n      <td>24</td>\n      <td>0</td>\n      <td>0</td>\n      <td>18</td>\n      <td>10</td>\n      <td>6</td>\n      <td>7</td>\n      <td>0</td>\n      <td>0</td>\n      <td>0</td>\n      <td>0</td>\n      <td>17</td>\n      <td>0</td>\n      <td>0</td>\n      <td>0</td>\n      <td>0</td>\n      <td>0</td>\n      <td>0</td>\n      <td>0</td>\n      <td>0</td>\n      <td>0</td>\n      <td>8</td>\n      <td>0</td>\n      <td>0</td>\n      <td>1</td>\n      <td>0</td>\n      <td>0</td>\n      <td>0</td>\n      <td>0</td>\n      <td>0</td>\n      <td>0</td>\n      <td>1</td>\n      <td>0</td>\n      <td>1</td>\n      <td>0</td>\n      <td>52</td>\n      <td>7</td>\n      <td>87</td>\n      <td>7</td>\n      <td>1</td>\n      <td>0</td>\n      <td>26</td>\n      <td>59</td>\n    </tr>\n    <tr>\n      <th>70</th>\n      <td>2020-04-30 15:52:13</td>\n      <td>45</td>\n      <td>4</td>\n      <td>80</td>\n      <td>6</td>\n      <td>0</td>\n      <td>12</td>\n      <td>0</td>\n      <td>7</td>\n      <td>7</td>\n      <td>2</td>\n      <td>0</td>\n      <td>4</td>\n      <td>9</td>\n      <td>3</td>\n      <td>0</td>\n      <td>1</td>\n      <td>2</td>\n      <td>6</td>\n      <td>0</td>\n      <td>0</td>\n      <td>0</td>\n      <td>0</td>\n      <td>0</td>\n      <td>9</td>\n      <td>0</td>\n      <td>0</td>\n      <td>0</td>\n      <td>0</td>\n      <td>0</td>\n      <td>1</td>\n      <td>0</td>\n      <td>2</td>\n      <td>0</td>\n      <td>0</td>\n      <td>4</td>\n      <td>0</td>\n      <td>0</td>\n      <td>12</td>\n      <td>7</td>\n      <td>54</td>\n      <td>23</td>\n      <td>0</td>\n      <td>2</td>\n      <td>28</td>\n      <td>93</td>\n    </tr>\n    <tr>\n      <th>71</th>\n      <td>2020-05-01 15:06:09</td>\n      <td>30</td>\n      <td>36</td>\n      <td>92</td>\n      <td>0</td>\n      <td>0</td>\n      <td>16</td>\n      <td>0</td>\n      <td>3</td>\n      <td>3</td>\n      <td>6</td>\n      <td>3</td>\n      <td>0</td>\n      <td>10</td>\n      <td>0</td>\n      <td>3</td>\n      <td>4</td>\n      <td>8</td>\n      <td>1</td>\n      <td>0</td>\n      <td>1</td>\n      <td>1</td>\n      <td>0</td>\n      <td>5</td>\n      <td>5</td>\n      <td>0</td>\n      <td>0</td>\n      <td>2</td>\n      <td>0</td>\n      <td>1</td>\n      <td>0</td>\n      <td>0</td>\n      <td>4</td>\n      <td>0</td>\n      <td>3</td>\n      <td>0</td>\n      <td>1</td>\n      <td>0</td>\n      <td>32</td>\n      <td>10</td>\n      <td>43</td>\n      <td>12</td>\n      <td>3</td>\n      <td>8</td>\n      <td>34</td>\n      <td>102</td>\n    </tr>\n    <tr>\n      <th>72</th>\n      <td>2020-05-02 15:56:07</td>\n      <td>62</td>\n      <td>52</td>\n      <td>2</td>\n      <td>0</td>\n      <td>2</td>\n      <td>4</td>\n      <td>0</td>\n      <td>6</td>\n      <td>5</td>\n      <td>4</td>\n      <td>2</td>\n      <td>0</td>\n      <td>5</td>\n      <td>31</td>\n      <td>0</td>\n      <td>0</td>\n      <td>0</td>\n      <td>0</td>\n      <td>0</td>\n      <td>4</td>\n      <td>0</td>\n      <td>0</td>\n      <td>3</td>\n      <td>13</td>\n      <td>0</td>\n      <td>0</td>\n      <td>0</td>\n      <td>2</td>\n      <td>0</td>\n      <td>10</td>\n      <td>0</td>\n      <td>2</td>\n      <td>0</td>\n      <td>9</td>\n      <td>0</td>\n      <td>2</td>\n      <td>0</td>\n      <td>34</td>\n      <td>17</td>\n      <td>68</td>\n      <td>5</td>\n      <td>6</td>\n      <td>6</td>\n      <td>24</td>\n      <td>59</td>\n    </tr>\n  </tbody>\n</table>\n</div>",
            "text/plain": "                 Dates  Lagos  Abuja(FCT)  Kano  Ogun  Osun  Gombe  Katsina  \\\n68 2020-04-28 16:04:13     80           1    38    15     0     10        0   \n69 2020-04-29 15:58:43     87          16    24     0     0     18       10   \n70 2020-04-30 15:52:13     45           4    80     6     0     12        0   \n71 2020-05-01 15:06:09     30          36    92     0     0     16        0   \n72 2020-05-02 15:56:07     62          52     2     0     2      4        0   \n\n    Borno  Edo  Oyo  Kwara  Akwa Ibom  Bauchi  Kaduna  Ekiti  Ondo  Delta  \\\n68     11    5    0      0          0      15       0      0     0      1   \n69      6    7    0      0          0       0      17      0     0      0   \n70      7    7    2      0          4       9       3      0     1      2   \n71      3    3    6      3          0      10       0      3     4      8   \n72      6    5    4      2          0       5      31      0     0      0   \n\n    Rivers  Jigawa  Enugu  Niger  Abia  Zamfara  Sokoto  Benue  Anambra  \\\n68       1       5      1      0     0        2       9      0        0   \n69       0       0      0      0     0        0       8      0        0   \n70       6       0      0      0     0        0       9      0        0   \n71       1       0      1      1     0        5       5      0        0   \n72       0       0      4      0     0        3      13      0        0   \n\n    Adamawa  Plateau  Imo  Kebbi  Kogi  Nasarawa  Taraba  Yobe  Bayelsa  \\\n68        0        0    0      0     0         1       0     0        0   \n69        1        0    0      0     0         0       0     1        0   \n70        0        0    0      1     0         2       0     0        4   \n71        2        0    1      0     0         4       0     3        0   \n72        0        2    0     10     0         2       0     9        0   \n\n    Ebonyi  Cross River  Dischared/Revovered  Dealth  South_West  South_South  \\\n68       0            0                    0       4          95            7   \n69       1            0                   52       7          87            7   \n70       0            0                   12       7          54           23   \n71       1            0                   32      10          43           12   \n72       2            0                   34      17          68            5   \n\n    South_East  North_Central  North_East  North_West  \n68           1              1          36          54  \n69           1              0          26          59  \n70           0              2          28          93  \n71           3              8          34         102  \n72           6              6          24          59  "
          },
          "metadata": {}
        }
      ]
    },
    {
      "metadata": {
        "trusted": true
      },
      "cell_type": "code",
      "source": "#format header columns\ndef clean_col(name):\n    return name.strip().lower().replace(\" \", \"_\").replace('/','_')\n",
      "execution_count": 14,
      "outputs": []
    },
    {
      "metadata": {
        "trusted": true
      },
      "cell_type": "code",
      "source": "exp_wip_col_clean = exp_wip.rename(columns=clean_col)",
      "execution_count": 15,
      "outputs": []
    },
    {
      "metadata": {
        "trusted": true
      },
      "cell_type": "code",
      "source": "exp_wip_col_clean.head()",
      "execution_count": 16,
      "outputs": [
        {
          "output_type": "execute_result",
          "execution_count": 16,
          "data": {
            "text/html": "<div>\n<style scoped>\n    .dataframe tbody tr th:only-of-type {\n        vertical-align: middle;\n    }\n\n    .dataframe tbody tr th {\n        vertical-align: top;\n    }\n\n    .dataframe thead th {\n        text-align: right;\n    }\n</style>\n<table border=\"1\" class=\"dataframe\">\n  <thead>\n    <tr style=\"text-align: right;\">\n      <th></th>\n      <th>dates</th>\n      <th>lagos</th>\n      <th>abuja(fct)</th>\n      <th>kano</th>\n      <th>ogun</th>\n      <th>osun</th>\n      <th>gombe</th>\n      <th>katsina</th>\n      <th>borno</th>\n      <th>edo</th>\n      <th>oyo</th>\n      <th>kwara</th>\n      <th>akwa_ibom</th>\n      <th>bauchi</th>\n      <th>kaduna</th>\n      <th>ekiti</th>\n      <th>ondo</th>\n      <th>delta</th>\n      <th>rivers</th>\n      <th>jigawa</th>\n      <th>enugu</th>\n      <th>niger</th>\n      <th>abia</th>\n      <th>zamfara</th>\n      <th>sokoto</th>\n      <th>benue</th>\n      <th>anambra</th>\n      <th>adamawa</th>\n      <th>plateau</th>\n      <th>imo</th>\n      <th>kebbi</th>\n      <th>kogi</th>\n      <th>nasarawa</th>\n      <th>taraba</th>\n      <th>yobe</th>\n      <th>bayelsa</th>\n      <th>ebonyi</th>\n      <th>cross_river</th>\n      <th>dischared_revovered</th>\n      <th>dealth</th>\n      <th>south_west</th>\n      <th>south_south</th>\n      <th>south_east</th>\n      <th>north_central</th>\n      <th>north_east</th>\n      <th>north_west</th>\n    </tr>\n  </thead>\n  <tbody>\n    <tr>\n      <th>0</th>\n      <td>2020-02-27 15:40:38</td>\n      <td>1</td>\n      <td>0</td>\n      <td>0</td>\n      <td>0</td>\n      <td>0</td>\n      <td>0</td>\n      <td>0</td>\n      <td>0</td>\n      <td>0</td>\n      <td>0</td>\n      <td>0</td>\n      <td>0</td>\n      <td>0</td>\n      <td>0</td>\n      <td>0</td>\n      <td>0</td>\n      <td>0</td>\n      <td>0</td>\n      <td>0</td>\n      <td>0</td>\n      <td>0</td>\n      <td>0</td>\n      <td>0</td>\n      <td>0</td>\n      <td>0</td>\n      <td>0</td>\n      <td>0</td>\n      <td>0</td>\n      <td>0</td>\n      <td>0</td>\n      <td>0</td>\n      <td>0</td>\n      <td>0</td>\n      <td>0</td>\n      <td>0</td>\n      <td>0</td>\n      <td>0</td>\n      <td>0</td>\n      <td>0</td>\n      <td>1</td>\n      <td>0</td>\n      <td>0</td>\n      <td>0</td>\n      <td>0</td>\n      <td>0</td>\n    </tr>\n    <tr>\n      <th>1</th>\n      <td>2020-02-28 01:00:36</td>\n      <td>0</td>\n      <td>0</td>\n      <td>0</td>\n      <td>0</td>\n      <td>0</td>\n      <td>0</td>\n      <td>0</td>\n      <td>0</td>\n      <td>0</td>\n      <td>0</td>\n      <td>0</td>\n      <td>0</td>\n      <td>0</td>\n      <td>0</td>\n      <td>0</td>\n      <td>0</td>\n      <td>0</td>\n      <td>0</td>\n      <td>0</td>\n      <td>0</td>\n      <td>0</td>\n      <td>0</td>\n      <td>0</td>\n      <td>0</td>\n      <td>0</td>\n      <td>0</td>\n      <td>0</td>\n      <td>0</td>\n      <td>0</td>\n      <td>0</td>\n      <td>0</td>\n      <td>0</td>\n      <td>0</td>\n      <td>0</td>\n      <td>0</td>\n      <td>0</td>\n      <td>0</td>\n      <td>0</td>\n      <td>0</td>\n      <td>0</td>\n      <td>0</td>\n      <td>0</td>\n      <td>0</td>\n      <td>0</td>\n      <td>0</td>\n    </tr>\n    <tr>\n      <th>2</th>\n      <td>2020-02-29 02:26:52</td>\n      <td>0</td>\n      <td>0</td>\n      <td>0</td>\n      <td>0</td>\n      <td>0</td>\n      <td>0</td>\n      <td>0</td>\n      <td>0</td>\n      <td>0</td>\n      <td>0</td>\n      <td>0</td>\n      <td>0</td>\n      <td>0</td>\n      <td>0</td>\n      <td>0</td>\n      <td>0</td>\n      <td>0</td>\n      <td>0</td>\n      <td>0</td>\n      <td>0</td>\n      <td>0</td>\n      <td>0</td>\n      <td>0</td>\n      <td>0</td>\n      <td>0</td>\n      <td>0</td>\n      <td>0</td>\n      <td>0</td>\n      <td>0</td>\n      <td>0</td>\n      <td>0</td>\n      <td>0</td>\n      <td>0</td>\n      <td>0</td>\n      <td>0</td>\n      <td>0</td>\n      <td>0</td>\n      <td>0</td>\n      <td>0</td>\n      <td>0</td>\n      <td>0</td>\n      <td>0</td>\n      <td>0</td>\n      <td>0</td>\n      <td>0</td>\n    </tr>\n    <tr>\n      <th>3</th>\n      <td>2020-03-01 22:44:08</td>\n      <td>0</td>\n      <td>0</td>\n      <td>0</td>\n      <td>0</td>\n      <td>0</td>\n      <td>0</td>\n      <td>0</td>\n      <td>0</td>\n      <td>0</td>\n      <td>0</td>\n      <td>0</td>\n      <td>0</td>\n      <td>0</td>\n      <td>0</td>\n      <td>0</td>\n      <td>0</td>\n      <td>0</td>\n      <td>0</td>\n      <td>0</td>\n      <td>0</td>\n      <td>0</td>\n      <td>0</td>\n      <td>0</td>\n      <td>0</td>\n      <td>0</td>\n      <td>0</td>\n      <td>0</td>\n      <td>0</td>\n      <td>0</td>\n      <td>0</td>\n      <td>0</td>\n      <td>0</td>\n      <td>0</td>\n      <td>0</td>\n      <td>0</td>\n      <td>0</td>\n      <td>0</td>\n      <td>0</td>\n      <td>0</td>\n      <td>0</td>\n      <td>0</td>\n      <td>0</td>\n      <td>0</td>\n      <td>0</td>\n      <td>0</td>\n    </tr>\n    <tr>\n      <th>4</th>\n      <td>2020-03-02 11:53:02</td>\n      <td>0</td>\n      <td>0</td>\n      <td>0</td>\n      <td>0</td>\n      <td>0</td>\n      <td>0</td>\n      <td>0</td>\n      <td>0</td>\n      <td>0</td>\n      <td>0</td>\n      <td>0</td>\n      <td>0</td>\n      <td>0</td>\n      <td>0</td>\n      <td>0</td>\n      <td>0</td>\n      <td>0</td>\n      <td>0</td>\n      <td>0</td>\n      <td>0</td>\n      <td>0</td>\n      <td>0</td>\n      <td>0</td>\n      <td>0</td>\n      <td>0</td>\n      <td>0</td>\n      <td>0</td>\n      <td>0</td>\n      <td>0</td>\n      <td>0</td>\n      <td>0</td>\n      <td>0</td>\n      <td>0</td>\n      <td>0</td>\n      <td>0</td>\n      <td>0</td>\n      <td>0</td>\n      <td>0</td>\n      <td>0</td>\n      <td>0</td>\n      <td>0</td>\n      <td>0</td>\n      <td>0</td>\n      <td>0</td>\n      <td>0</td>\n    </tr>\n  </tbody>\n</table>\n</div>",
            "text/plain": "                dates  lagos  abuja(fct)  kano  ogun  osun  gombe  katsina  \\\n0 2020-02-27 15:40:38      1           0     0     0     0      0        0   \n1 2020-02-28 01:00:36      0           0     0     0     0      0        0   \n2 2020-02-29 02:26:52      0           0     0     0     0      0        0   \n3 2020-03-01 22:44:08      0           0     0     0     0      0        0   \n4 2020-03-02 11:53:02      0           0     0     0     0      0        0   \n\n   borno  edo  oyo  kwara  akwa_ibom  bauchi  kaduna  ekiti  ondo  delta  \\\n0      0    0    0      0          0       0       0      0     0      0   \n1      0    0    0      0          0       0       0      0     0      0   \n2      0    0    0      0          0       0       0      0     0      0   \n3      0    0    0      0          0       0       0      0     0      0   \n4      0    0    0      0          0       0       0      0     0      0   \n\n   rivers  jigawa  enugu  niger  abia  zamfara  sokoto  benue  anambra  \\\n0       0       0      0      0     0        0       0      0        0   \n1       0       0      0      0     0        0       0      0        0   \n2       0       0      0      0     0        0       0      0        0   \n3       0       0      0      0     0        0       0      0        0   \n4       0       0      0      0     0        0       0      0        0   \n\n   adamawa  plateau  imo  kebbi  kogi  nasarawa  taraba  yobe  bayelsa  \\\n0        0        0    0      0     0         0       0     0        0   \n1        0        0    0      0     0         0       0     0        0   \n2        0        0    0      0     0         0       0     0        0   \n3        0        0    0      0     0         0       0     0        0   \n4        0        0    0      0     0         0       0     0        0   \n\n   ebonyi  cross_river  dischared_revovered  dealth  south_west  south_south  \\\n0       0            0                    0       0           1            0   \n1       0            0                    0       0           0            0   \n2       0            0                    0       0           0            0   \n3       0            0                    0       0           0            0   \n4       0            0                    0       0           0            0   \n\n   south_east  north_central  north_east  north_west  \n0           0              0           0           0  \n1           0              0           0           0  \n2           0              0           0           0  \n3           0              0           0           0  \n4           0              0           0           0  "
          },
          "metadata": {}
        }
      ]
    },
    {
      "metadata": {
        "trusted": true
      },
      "cell_type": "code",
      "source": "exp_wip_col_clean.rename(columns={'abuja(fct)': 'abuja','dealth':'death','dischared_revovered':'discharged_recovered'}, inplace=True)",
      "execution_count": 17,
      "outputs": []
    },
    {
      "metadata": {
        "trusted": true,
        "scrolled": true
      },
      "cell_type": "code",
      "source": "exp_wip_col_clean.tail()",
      "execution_count": 18,
      "outputs": [
        {
          "output_type": "execute_result",
          "execution_count": 18,
          "data": {
            "text/html": "<div>\n<style scoped>\n    .dataframe tbody tr th:only-of-type {\n        vertical-align: middle;\n    }\n\n    .dataframe tbody tr th {\n        vertical-align: top;\n    }\n\n    .dataframe thead th {\n        text-align: right;\n    }\n</style>\n<table border=\"1\" class=\"dataframe\">\n  <thead>\n    <tr style=\"text-align: right;\">\n      <th></th>\n      <th>dates</th>\n      <th>lagos</th>\n      <th>abuja</th>\n      <th>kano</th>\n      <th>ogun</th>\n      <th>osun</th>\n      <th>gombe</th>\n      <th>katsina</th>\n      <th>borno</th>\n      <th>edo</th>\n      <th>oyo</th>\n      <th>kwara</th>\n      <th>akwa_ibom</th>\n      <th>bauchi</th>\n      <th>kaduna</th>\n      <th>ekiti</th>\n      <th>ondo</th>\n      <th>delta</th>\n      <th>rivers</th>\n      <th>jigawa</th>\n      <th>enugu</th>\n      <th>niger</th>\n      <th>abia</th>\n      <th>zamfara</th>\n      <th>sokoto</th>\n      <th>benue</th>\n      <th>anambra</th>\n      <th>adamawa</th>\n      <th>plateau</th>\n      <th>imo</th>\n      <th>kebbi</th>\n      <th>kogi</th>\n      <th>nasarawa</th>\n      <th>taraba</th>\n      <th>yobe</th>\n      <th>bayelsa</th>\n      <th>ebonyi</th>\n      <th>cross_river</th>\n      <th>discharged_recovered</th>\n      <th>death</th>\n      <th>south_west</th>\n      <th>south_south</th>\n      <th>south_east</th>\n      <th>north_central</th>\n      <th>north_east</th>\n      <th>north_west</th>\n    </tr>\n  </thead>\n  <tbody>\n    <tr>\n      <th>68</th>\n      <td>2020-04-28 16:04:13</td>\n      <td>80</td>\n      <td>1</td>\n      <td>38</td>\n      <td>15</td>\n      <td>0</td>\n      <td>10</td>\n      <td>0</td>\n      <td>11</td>\n      <td>5</td>\n      <td>0</td>\n      <td>0</td>\n      <td>0</td>\n      <td>15</td>\n      <td>0</td>\n      <td>0</td>\n      <td>0</td>\n      <td>1</td>\n      <td>1</td>\n      <td>5</td>\n      <td>1</td>\n      <td>0</td>\n      <td>0</td>\n      <td>2</td>\n      <td>9</td>\n      <td>0</td>\n      <td>0</td>\n      <td>0</td>\n      <td>0</td>\n      <td>0</td>\n      <td>0</td>\n      <td>0</td>\n      <td>1</td>\n      <td>0</td>\n      <td>0</td>\n      <td>0</td>\n      <td>0</td>\n      <td>0</td>\n      <td>0</td>\n      <td>4</td>\n      <td>95</td>\n      <td>7</td>\n      <td>1</td>\n      <td>1</td>\n      <td>36</td>\n      <td>54</td>\n    </tr>\n    <tr>\n      <th>69</th>\n      <td>2020-04-29 15:58:43</td>\n      <td>87</td>\n      <td>16</td>\n      <td>24</td>\n      <td>0</td>\n      <td>0</td>\n      <td>18</td>\n      <td>10</td>\n      <td>6</td>\n      <td>7</td>\n      <td>0</td>\n      <td>0</td>\n      <td>0</td>\n      <td>0</td>\n      <td>17</td>\n      <td>0</td>\n      <td>0</td>\n      <td>0</td>\n      <td>0</td>\n      <td>0</td>\n      <td>0</td>\n      <td>0</td>\n      <td>0</td>\n      <td>0</td>\n      <td>8</td>\n      <td>0</td>\n      <td>0</td>\n      <td>1</td>\n      <td>0</td>\n      <td>0</td>\n      <td>0</td>\n      <td>0</td>\n      <td>0</td>\n      <td>0</td>\n      <td>1</td>\n      <td>0</td>\n      <td>1</td>\n      <td>0</td>\n      <td>52</td>\n      <td>7</td>\n      <td>87</td>\n      <td>7</td>\n      <td>1</td>\n      <td>0</td>\n      <td>26</td>\n      <td>59</td>\n    </tr>\n    <tr>\n      <th>70</th>\n      <td>2020-04-30 15:52:13</td>\n      <td>45</td>\n      <td>4</td>\n      <td>80</td>\n      <td>6</td>\n      <td>0</td>\n      <td>12</td>\n      <td>0</td>\n      <td>7</td>\n      <td>7</td>\n      <td>2</td>\n      <td>0</td>\n      <td>4</td>\n      <td>9</td>\n      <td>3</td>\n      <td>0</td>\n      <td>1</td>\n      <td>2</td>\n      <td>6</td>\n      <td>0</td>\n      <td>0</td>\n      <td>0</td>\n      <td>0</td>\n      <td>0</td>\n      <td>9</td>\n      <td>0</td>\n      <td>0</td>\n      <td>0</td>\n      <td>0</td>\n      <td>0</td>\n      <td>1</td>\n      <td>0</td>\n      <td>2</td>\n      <td>0</td>\n      <td>0</td>\n      <td>4</td>\n      <td>0</td>\n      <td>0</td>\n      <td>12</td>\n      <td>7</td>\n      <td>54</td>\n      <td>23</td>\n      <td>0</td>\n      <td>2</td>\n      <td>28</td>\n      <td>93</td>\n    </tr>\n    <tr>\n      <th>71</th>\n      <td>2020-05-01 15:06:09</td>\n      <td>30</td>\n      <td>36</td>\n      <td>92</td>\n      <td>0</td>\n      <td>0</td>\n      <td>16</td>\n      <td>0</td>\n      <td>3</td>\n      <td>3</td>\n      <td>6</td>\n      <td>3</td>\n      <td>0</td>\n      <td>10</td>\n      <td>0</td>\n      <td>3</td>\n      <td>4</td>\n      <td>8</td>\n      <td>1</td>\n      <td>0</td>\n      <td>1</td>\n      <td>1</td>\n      <td>0</td>\n      <td>5</td>\n      <td>5</td>\n      <td>0</td>\n      <td>0</td>\n      <td>2</td>\n      <td>0</td>\n      <td>1</td>\n      <td>0</td>\n      <td>0</td>\n      <td>4</td>\n      <td>0</td>\n      <td>3</td>\n      <td>0</td>\n      <td>1</td>\n      <td>0</td>\n      <td>32</td>\n      <td>10</td>\n      <td>43</td>\n      <td>12</td>\n      <td>3</td>\n      <td>8</td>\n      <td>34</td>\n      <td>102</td>\n    </tr>\n    <tr>\n      <th>72</th>\n      <td>2020-05-02 15:56:07</td>\n      <td>62</td>\n      <td>52</td>\n      <td>2</td>\n      <td>0</td>\n      <td>2</td>\n      <td>4</td>\n      <td>0</td>\n      <td>6</td>\n      <td>5</td>\n      <td>4</td>\n      <td>2</td>\n      <td>0</td>\n      <td>5</td>\n      <td>31</td>\n      <td>0</td>\n      <td>0</td>\n      <td>0</td>\n      <td>0</td>\n      <td>0</td>\n      <td>4</td>\n      <td>0</td>\n      <td>0</td>\n      <td>3</td>\n      <td>13</td>\n      <td>0</td>\n      <td>0</td>\n      <td>0</td>\n      <td>2</td>\n      <td>0</td>\n      <td>10</td>\n      <td>0</td>\n      <td>2</td>\n      <td>0</td>\n      <td>9</td>\n      <td>0</td>\n      <td>2</td>\n      <td>0</td>\n      <td>34</td>\n      <td>17</td>\n      <td>68</td>\n      <td>5</td>\n      <td>6</td>\n      <td>6</td>\n      <td>24</td>\n      <td>59</td>\n    </tr>\n  </tbody>\n</table>\n</div>",
            "text/plain": "                 dates  lagos  abuja  kano  ogun  osun  gombe  katsina  borno  \\\n68 2020-04-28 16:04:13     80      1    38    15     0     10        0     11   \n69 2020-04-29 15:58:43     87     16    24     0     0     18       10      6   \n70 2020-04-30 15:52:13     45      4    80     6     0     12        0      7   \n71 2020-05-01 15:06:09     30     36    92     0     0     16        0      3   \n72 2020-05-02 15:56:07     62     52     2     0     2      4        0      6   \n\n    edo  oyo  kwara  akwa_ibom  bauchi  kaduna  ekiti  ondo  delta  rivers  \\\n68    5    0      0          0      15       0      0     0      1       1   \n69    7    0      0          0       0      17      0     0      0       0   \n70    7    2      0          4       9       3      0     1      2       6   \n71    3    6      3          0      10       0      3     4      8       1   \n72    5    4      2          0       5      31      0     0      0       0   \n\n    jigawa  enugu  niger  abia  zamfara  sokoto  benue  anambra  adamawa  \\\n68       5      1      0     0        2       9      0        0        0   \n69       0      0      0     0        0       8      0        0        1   \n70       0      0      0     0        0       9      0        0        0   \n71       0      1      1     0        5       5      0        0        2   \n72       0      4      0     0        3      13      0        0        0   \n\n    plateau  imo  kebbi  kogi  nasarawa  taraba  yobe  bayelsa  ebonyi  \\\n68        0    0      0     0         1       0     0        0       0   \n69        0    0      0     0         0       0     1        0       1   \n70        0    0      1     0         2       0     0        4       0   \n71        0    1      0     0         4       0     3        0       1   \n72        2    0     10     0         2       0     9        0       2   \n\n    cross_river  discharged_recovered  death  south_west  south_south  \\\n68            0                     0      4          95            7   \n69            0                    52      7          87            7   \n70            0                    12      7          54           23   \n71            0                    32     10          43           12   \n72            0                    34     17          68            5   \n\n    south_east  north_central  north_east  north_west  \n68           1              1          36          54  \n69           1              0          26          59  \n70           0              2          28          93  \n71           3              8          34         102  \n72           6              6          24          59  "
          },
          "metadata": {}
        }
      ]
    },
    {
      "metadata": {
        "trusted": true
      },
      "cell_type": "code",
      "source": "#extract the total daily cases\nexp_wip_col_clean['total_daily_cases'] = exp_wip_col_clean['lagos'] + exp_wip_col_clean['abuja'] + \\\nexp_wip_col_clean['kano'] + exp_wip_col_clean['ogun'] + exp_wip_col_clean['osun'] + \\\nexp_wip_col_clean['gombe'] + exp_wip_col_clean['katsina'] + exp_wip_col_clean['borno'] + \\\nexp_wip_col_clean['edo'] + exp_wip_col_clean['edo'] + exp_wip_col_clean['oyo'] + exp_wip_col_clean['kwara'] + \\\nexp_wip_col_clean['akwa_ibom'] + exp_wip_col_clean['kaduna'] + exp_wip_col_clean['ekiti'] + exp_wip_col_clean['ondo'] + \\\nexp_wip_col_clean['delta'] + exp_wip_col_clean['rivers'] + exp_wip_col_clean['jigawa'] + exp_wip_col_clean['enugu'] + \\\nexp_wip_col_clean['niger'] + exp_wip_col_clean['abia'] + exp_wip_col_clean['zamfara'] +  exp_wip_col_clean['sokoto'] + \\\nexp_wip_col_clean['benue'] + exp_wip_col_clean['anambra'] + exp_wip_col_clean['adamawa'] + exp_wip_col_clean['plateau'] + \\\nexp_wip_col_clean['imo'] + exp_wip_col_clean['kebbi'] + exp_wip_col_clean['kogi'] + exp_wip_col_clean['nasarawa'] + \\\nexp_wip_col_clean['taraba'] + exp_wip_col_clean['yobe'] + exp_wip_col_clean['bayelsa'] + exp_wip_col_clean['ebonyi'] + \\\nexp_wip_col_clean['cross_river']",
      "execution_count": 19,
      "outputs": []
    },
    {
      "metadata": {
        "trusted": true
      },
      "cell_type": "code",
      "source": "exp_wip_col_clean['total_daily_cases'].tail()",
      "execution_count": 20,
      "outputs": [
        {
          "output_type": "execute_result",
          "execution_count": 20,
          "data": {
            "text/plain": "68    185\n69    203\n70    202\n71    231\n72    220\nName: total_daily_cases, dtype: int64"
          },
          "metadata": {}
        }
      ]
    },
    {
      "metadata": {
        "trusted": true
      },
      "cell_type": "code",
      "source": "#extract case fatality rate/day\n# Number of death/ number of cases * 100\nexp_wip_col_clean['case_fatality_rate'] = (exp_wip_col_clean['death'] / exp_wip_col_clean['total_daily_cases']) * 100",
      "execution_count": 21,
      "outputs": []
    },
    {
      "metadata": {
        "trusted": true
      },
      "cell_type": "code",
      "source": "exp_wip_col_clean['death'].tail()",
      "execution_count": 22,
      "outputs": [
        {
          "output_type": "execute_result",
          "execution_count": 22,
          "data": {
            "text/plain": "68     4\n69     7\n70     7\n71    10\n72    17\nName: death, dtype: int64"
          },
          "metadata": {}
        }
      ]
    },
    {
      "metadata": {
        "trusted": true
      },
      "cell_type": "code",
      "source": "exp_wip_col_clean['case_fatality_rate'].head()",
      "execution_count": 23,
      "outputs": [
        {
          "output_type": "execute_result",
          "execution_count": 23,
          "data": {
            "text/plain": "0    0.0\n1    NaN\n2    NaN\n3    NaN\n4    NaN\nName: case_fatality_rate, dtype: float64"
          },
          "metadata": {}
        }
      ]
    },
    {
      "metadata": {
        "trusted": true
      },
      "cell_type": "code",
      "source": "exp_wip_col_clean.columns",
      "execution_count": 24,
      "outputs": [
        {
          "output_type": "execute_result",
          "execution_count": 24,
          "data": {
            "text/plain": "Index(['dates', 'lagos', 'abuja', 'kano', 'ogun', 'osun', 'gombe', 'katsina',\n       'borno', 'edo', 'oyo', 'kwara', 'akwa_ibom', 'bauchi', 'kaduna',\n       'ekiti', 'ondo', 'delta', 'rivers', 'jigawa', 'enugu', 'niger', 'abia',\n       'zamfara', 'sokoto', 'benue', 'anambra', 'adamawa', 'plateau', 'imo',\n       'kebbi', 'kogi', 'nasarawa', 'taraba', 'yobe', 'bayelsa', 'ebonyi',\n       'cross_river', 'discharged_recovered', 'death', 'south_west',\n       'south_south', 'south_east', 'north_central', 'north_east',\n       'north_west', 'total_daily_cases', 'case_fatality_rate'],\n      dtype='object')"
          },
          "metadata": {}
        }
      ]
    },
    {
      "metadata": {
        "trusted": true
      },
      "cell_type": "code",
      "source": "# implement tidy data principles; melt individual states into one column:'states' \n#and geopolitical zone into 'zones'\ntidy_covid1 = exp_wip_col_clean.melt(id_vars=['dates','discharged_recovered', 'death','total_daily_cases', 'case_fatality_rate','south_west','south_south', 'south_east', 'north_central','north_east','north_west'], \n                                   value_vars=['lagos', 'abuja', 'kano', 'ogun', 'osun', 'gombe', 'katsina','borno', 'edo', 'oyo', 'kwara', 'akwa_ibom', 'bauchi', 'kaduna','ekiti', 'ondo', 'delta', 'rivers', 'jigawa', 'enugu', 'niger', 'abia','zamfara', 'sokoto', 'benue', 'anambra', 'adamawa', 'plateau', 'imo','kebbi', 'kogi', 'nasarawa', 'taraba', 'yobe', 'bayelsa', 'ebonyi','cross_river'],\n                                   var_name='states', value_name='cases_state')",
      "execution_count": 25,
      "outputs": []
    },
    {
      "metadata": {
        "trusted": true
      },
      "cell_type": "code",
      "source": "tidy_covid1.head()",
      "execution_count": 26,
      "outputs": [
        {
          "output_type": "execute_result",
          "execution_count": 26,
          "data": {
            "text/html": "<div>\n<style scoped>\n    .dataframe tbody tr th:only-of-type {\n        vertical-align: middle;\n    }\n\n    .dataframe tbody tr th {\n        vertical-align: top;\n    }\n\n    .dataframe thead th {\n        text-align: right;\n    }\n</style>\n<table border=\"1\" class=\"dataframe\">\n  <thead>\n    <tr style=\"text-align: right;\">\n      <th></th>\n      <th>dates</th>\n      <th>discharged_recovered</th>\n      <th>death</th>\n      <th>total_daily_cases</th>\n      <th>case_fatality_rate</th>\n      <th>south_west</th>\n      <th>south_south</th>\n      <th>south_east</th>\n      <th>north_central</th>\n      <th>north_east</th>\n      <th>north_west</th>\n      <th>states</th>\n      <th>cases_state</th>\n    </tr>\n  </thead>\n  <tbody>\n    <tr>\n      <th>0</th>\n      <td>2020-02-27 15:40:38</td>\n      <td>0</td>\n      <td>0</td>\n      <td>1</td>\n      <td>0.0</td>\n      <td>1</td>\n      <td>0</td>\n      <td>0</td>\n      <td>0</td>\n      <td>0</td>\n      <td>0</td>\n      <td>lagos</td>\n      <td>1</td>\n    </tr>\n    <tr>\n      <th>1</th>\n      <td>2020-02-28 01:00:36</td>\n      <td>0</td>\n      <td>0</td>\n      <td>0</td>\n      <td>NaN</td>\n      <td>0</td>\n      <td>0</td>\n      <td>0</td>\n      <td>0</td>\n      <td>0</td>\n      <td>0</td>\n      <td>lagos</td>\n      <td>0</td>\n    </tr>\n    <tr>\n      <th>2</th>\n      <td>2020-02-29 02:26:52</td>\n      <td>0</td>\n      <td>0</td>\n      <td>0</td>\n      <td>NaN</td>\n      <td>0</td>\n      <td>0</td>\n      <td>0</td>\n      <td>0</td>\n      <td>0</td>\n      <td>0</td>\n      <td>lagos</td>\n      <td>0</td>\n    </tr>\n    <tr>\n      <th>3</th>\n      <td>2020-03-01 22:44:08</td>\n      <td>0</td>\n      <td>0</td>\n      <td>0</td>\n      <td>NaN</td>\n      <td>0</td>\n      <td>0</td>\n      <td>0</td>\n      <td>0</td>\n      <td>0</td>\n      <td>0</td>\n      <td>lagos</td>\n      <td>0</td>\n    </tr>\n    <tr>\n      <th>4</th>\n      <td>2020-03-02 11:53:02</td>\n      <td>0</td>\n      <td>0</td>\n      <td>0</td>\n      <td>NaN</td>\n      <td>0</td>\n      <td>0</td>\n      <td>0</td>\n      <td>0</td>\n      <td>0</td>\n      <td>0</td>\n      <td>lagos</td>\n      <td>0</td>\n    </tr>\n  </tbody>\n</table>\n</div>",
            "text/plain": "                dates  discharged_recovered  death  total_daily_cases  \\\n0 2020-02-27 15:40:38                     0      0                  1   \n1 2020-02-28 01:00:36                     0      0                  0   \n2 2020-02-29 02:26:52                     0      0                  0   \n3 2020-03-01 22:44:08                     0      0                  0   \n4 2020-03-02 11:53:02                     0      0                  0   \n\n   case_fatality_rate  south_west  south_south  south_east  north_central  \\\n0                 0.0           1            0           0              0   \n1                 NaN           0            0           0              0   \n2                 NaN           0            0           0              0   \n3                 NaN           0            0           0              0   \n4                 NaN           0            0           0              0   \n\n   north_east  north_west states  cases_state  \n0           0           0  lagos            1  \n1           0           0  lagos            0  \n2           0           0  lagos            0  \n3           0           0  lagos            0  \n4           0           0  lagos            0  "
          },
          "metadata": {}
        }
      ]
    },
    {
      "metadata": {
        "trusted": true
      },
      "cell_type": "code",
      "source": "tidy_covid_all = tidy_covid1.melt(id_vars=['dates','discharged_recovered', 'death','total_daily_cases', 'case_fatality_rate','states','cases_state'], value_vars=['south_west','south_south', 'south_east', 'north_central','north_east','north_west'],\n                                 var_name='geopolitical_zones', value_name='cases_zones')",
      "execution_count": 27,
      "outputs": []
    },
    {
      "metadata": {
        "trusted": true
      },
      "cell_type": "code",
      "source": "tidy_covid_all.tail()",
      "execution_count": 28,
      "outputs": [
        {
          "output_type": "execute_result",
          "execution_count": 28,
          "data": {
            "text/html": "<div>\n<style scoped>\n    .dataframe tbody tr th:only-of-type {\n        vertical-align: middle;\n    }\n\n    .dataframe tbody tr th {\n        vertical-align: top;\n    }\n\n    .dataframe thead th {\n        text-align: right;\n    }\n</style>\n<table border=\"1\" class=\"dataframe\">\n  <thead>\n    <tr style=\"text-align: right;\">\n      <th></th>\n      <th>dates</th>\n      <th>discharged_recovered</th>\n      <th>death</th>\n      <th>total_daily_cases</th>\n      <th>case_fatality_rate</th>\n      <th>states</th>\n      <th>cases_state</th>\n      <th>geopolitical_zones</th>\n      <th>cases_zones</th>\n    </tr>\n  </thead>\n  <tbody>\n    <tr>\n      <th>16201</th>\n      <td>2020-04-28 16:04:13</td>\n      <td>0</td>\n      <td>4</td>\n      <td>185</td>\n      <td>2.162162</td>\n      <td>cross_river</td>\n      <td>0</td>\n      <td>north_west</td>\n      <td>54</td>\n    </tr>\n    <tr>\n      <th>16202</th>\n      <td>2020-04-29 15:58:43</td>\n      <td>52</td>\n      <td>7</td>\n      <td>203</td>\n      <td>3.448276</td>\n      <td>cross_river</td>\n      <td>0</td>\n      <td>north_west</td>\n      <td>59</td>\n    </tr>\n    <tr>\n      <th>16203</th>\n      <td>2020-04-30 15:52:13</td>\n      <td>12</td>\n      <td>7</td>\n      <td>202</td>\n      <td>3.465347</td>\n      <td>cross_river</td>\n      <td>0</td>\n      <td>north_west</td>\n      <td>93</td>\n    </tr>\n    <tr>\n      <th>16204</th>\n      <td>2020-05-01 15:06:09</td>\n      <td>32</td>\n      <td>10</td>\n      <td>231</td>\n      <td>4.329004</td>\n      <td>cross_river</td>\n      <td>0</td>\n      <td>north_west</td>\n      <td>102</td>\n    </tr>\n    <tr>\n      <th>16205</th>\n      <td>2020-05-02 15:56:07</td>\n      <td>34</td>\n      <td>17</td>\n      <td>220</td>\n      <td>7.727273</td>\n      <td>cross_river</td>\n      <td>0</td>\n      <td>north_west</td>\n      <td>59</td>\n    </tr>\n  </tbody>\n</table>\n</div>",
            "text/plain": "                    dates  discharged_recovered  death  total_daily_cases  \\\n16201 2020-04-28 16:04:13                     0      4                185   \n16202 2020-04-29 15:58:43                    52      7                203   \n16203 2020-04-30 15:52:13                    12      7                202   \n16204 2020-05-01 15:06:09                    32     10                231   \n16205 2020-05-02 15:56:07                    34     17                220   \n\n       case_fatality_rate       states  cases_state geopolitical_zones  \\\n16201            2.162162  cross_river            0         north_west   \n16202            3.448276  cross_river            0         north_west   \n16203            3.465347  cross_river            0         north_west   \n16204            4.329004  cross_river            0         north_west   \n16205            7.727273  cross_river            0         north_west   \n\n       cases_zones  \n16201           54  \n16202           59  \n16203           93  \n16204          102  \n16205           59  "
          },
          "metadata": {}
        }
      ]
    },
    {
      "metadata": {
        "trusted": true
      },
      "cell_type": "code",
      "source": "tidy_covid_all['geopolitical_zones'].unique()",
      "execution_count": 29,
      "outputs": [
        {
          "output_type": "execute_result",
          "execution_count": 29,
          "data": {
            "text/plain": "array(['south_west', 'south_south', 'south_east', 'north_central',\n       'north_east', 'north_west'], dtype=object)"
          },
          "metadata": {}
        }
      ]
    },
    {
      "metadata": {
        "trusted": true
      },
      "cell_type": "code",
      "source": "average_zones_cases = tidy_covid_all.groupby('geopolitical_zones').agg({'cases_zones':'mean'}).reset_index()",
      "execution_count": 30,
      "outputs": []
    },
    {
      "metadata": {
        "trusted": true
      },
      "cell_type": "code",
      "source": "average_zones_cases",
      "execution_count": 31,
      "outputs": [
        {
          "output_type": "execute_result",
          "execution_count": 31,
          "data": {
            "text/html": "<div>\n<style scoped>\n    .dataframe tbody tr th:only-of-type {\n        vertical-align: middle;\n    }\n\n    .dataframe tbody tr th {\n        vertical-align: top;\n    }\n\n    .dataframe thead th {\n        text-align: right;\n    }\n</style>\n<table border=\"1\" class=\"dataframe\">\n  <thead>\n    <tr style=\"text-align: right;\">\n      <th></th>\n      <th>geopolitical_zones</th>\n      <th>cases_zones</th>\n    </tr>\n  </thead>\n  <tbody>\n    <tr>\n      <th>0</th>\n      <td>north_central</td>\n      <td>0.438356</td>\n    </tr>\n    <tr>\n      <th>1</th>\n      <td>north_east</td>\n      <td>3.438356</td>\n    </tr>\n    <tr>\n      <th>2</th>\n      <td>north_west</td>\n      <td>6.904110</td>\n    </tr>\n    <tr>\n      <th>3</th>\n      <td>south_east</td>\n      <td>0.246575</td>\n    </tr>\n    <tr>\n      <th>4</th>\n      <td>south_south</td>\n      <td>1.424658</td>\n    </tr>\n    <tr>\n      <th>5</th>\n      <td>south_west</td>\n      <td>16.671233</td>\n    </tr>\n  </tbody>\n</table>\n</div>",
            "text/plain": "  geopolitical_zones  cases_zones\n0      north_central     0.438356\n1         north_east     3.438356\n2         north_west     6.904110\n3         south_east     0.246575\n4        south_south     1.424658\n5         south_west    16.671233"
          },
          "metadata": {}
        }
      ]
    },
    {
      "metadata": {
        "trusted": true
      },
      "cell_type": "code",
      "source": "sns.set(style='whitegrid')",
      "execution_count": 38,
      "outputs": []
    },
    {
      "metadata": {
        "trusted": true
      },
      "cell_type": "code",
      "source": "\nsns.barplot(x='geopolitical_zones',y='cases_zones',data=average_zones_cases,order=['south_east','north_central','south_south','north_east','north_west','south_west'])",
      "execution_count": 44,
      "outputs": [
        {
          "output_type": "execute_result",
          "execution_count": 44,
          "data": {
            "text/plain": "<matplotlib.axes._subplots.AxesSubplot at 0x7f5d67b66128>"
          },
          "metadata": {}
        },
        {
          "output_type": "display_data",
          "data": {
            "image/png": "[encoded data removed]",
            "text/plain": "<Figure size 1440x720 with 1 Axes>"
          },
          "metadata": {}
        }
      ]
    },
    {
      "metadata": {
        "trusted": true
      },
      "cell_type": "code",
      "source": "",
      "execution_count": null,
      "outputs": []
    }
  ],
  "metadata": {
    "kernelspec": {
      "name": "python36",
      "display_name": "Python 3.6",
      "language": "python"
    },
    "language_info": {
      "mimetype": "text/x-python",
      "nbconvert_exporter": "python",
      "name": "python",
      "pygments_lexer": "ipython3",
      "version": "3.6.6",
      "file_extension": ".py",
      "codemirror_mode": {
        "version": 3,
        "name": "ipython"
      }
    }
  },
  "nbformat": 4,
  "nbformat_minor": 2
}